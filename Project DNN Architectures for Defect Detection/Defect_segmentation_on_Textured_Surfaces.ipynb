{
  "nbformat": 4,
  "nbformat_minor": 0,
  "metadata": {
    "accelerator": "GPU",
    "colab": {
      "name": "Template_Defect_segmentation_on_Textured_Surfaces.ipynb",
      "provenance": [],
      "collapsed_sections": []
    },
    "kernelspec": {
      "name": "python3",
      "display_name": "Python 3"
    },
    "language_info": {
      "codemirror_mode": {
        "name": "ipython",
        "version": 3
      },
      "file_extension": ".py",
      "mimetype": "text/x-python",
      "name": "python",
      "nbconvert_exporter": "python",
      "pygments_lexer": "ipython3",
      "version": "3.7.3"
    }
  },
  "cells": [
    {
      "cell_type": "markdown",
      "metadata": {
        "colab_type": "text",
        "id": "S-fSL1r2fQ7Z"
      },
      "source": [
        "We will use the Industrial Optical Inspection Dataset. \n",
        "The blocks given below will help you copy and unzip the data from google drive.\n",
        "\n",
        "---\n",
        "\n",
        "\n",
        "The dataset description can be found here : https://hci.iwr.uni-heidelberg.de/node/3616"
      ]
    },
    {
      "cell_type": "markdown",
      "metadata": {
        "colab_type": "text",
        "id": "DymbI5OJIuFF"
      },
      "source": [
        "# Google Colab\n",
        "Set the Runtime to GPU from the menu on the top left of this webpage\n",
        "\n",
        "Importing data to Google Colab"
      ]
    },
    {
      "cell_type": "code",
      "metadata": {
        "colab_type": "code",
        "id": "zDP8dGDEfHM2",
        "colab": {
          "base_uri": "https://localhost:8080/",
          "height": 34
        },
        "outputId": "2bdc282a-e53a-4642-cc39-600f58ae9f38"
      },
      "source": [
        "from google.colab import drive\n",
        "drive.mount('/content/gdrive')"
      ],
      "execution_count": 1,
      "outputs": [
        {
          "output_type": "stream",
          "text": [
            "Drive already mounted at /content/gdrive; to attempt to forcibly remount, call drive.mount(\"/content/gdrive\", force_remount=True).\n"
          ],
          "name": "stdout"
        }
      ]
    },
    {
      "cell_type": "code",
      "metadata": {
        "colab_type": "code",
        "id": "3on7wPL6mBF2",
        "colab": {
          "base_uri": "https://localhost:8080/",
          "height": 51
        },
        "outputId": "b7f9e9f2-24d7-4b90-dc2d-7f3879639b85"
      },
      "source": [
        "# Copy data to google colab from google drive and unzip\n",
        "# This may take 1-2 minutes\n",
        "!cp gdrive/My\\ Drive/optical_data.zip .\n",
        "!unzip optical_data.zip"
      ],
      "execution_count": 2,
      "outputs": [
        {
          "output_type": "stream",
          "text": [
            "Archive:  optical_data.zip\n",
            "replace data/.DS_Store? [y]es, [n]o, [A]ll, [N]one, [r]ename: "
          ],
          "name": "stdout"
        }
      ]
    },
    {
      "cell_type": "code",
      "metadata": {
        "colab_type": "code",
        "id": "w_-5AVwxm7d5",
        "colab": {
          "base_uri": "https://localhost:8080/",
          "height": 34
        },
        "outputId": "0aabd99f-63c2-4779-b7f2-0f239faf4623"
      },
      "source": [
        "# You should be able to see 7 Classes here\n",
        "!ls data"
      ],
      "execution_count": 3,
      "outputs": [
        {
          "output_type": "stream",
          "text": [
            "Class1\tClass2\tClass3\tClass4\tClass5\tClass6\tClass7\n"
          ],
          "name": "stdout"
        }
      ]
    },
    {
      "cell_type": "markdown",
      "metadata": {
        "colab_type": "text",
        "id": "HkvMl2Mt-BrB"
      },
      "source": [
        "Sample Output : Class1 Class2\tClass3\tClass4\tClass5\tClass6\tClass7"
      ]
    },
    {
      "cell_type": "markdown",
      "metadata": {
        "colab_type": "text",
        "id": "H-GSOCv7ImGM"
      },
      "source": [
        "# Main Notebook"
      ]
    },
    {
      "cell_type": "code",
      "metadata": {
        "colab_type": "code",
        "id": "2p453M9kewcU",
        "colab": {
          "base_uri": "https://localhost:8080/",
          "height": 51
        },
        "outputId": "1713888d-46b3-46f0-8f8c-0033a7ad3e9f"
      },
      "source": [
        "import os\n",
        "import sys\n",
        "import time\n",
        "import warnings\n",
        "from random import shuffle\n",
        "\n",
        "%tensorflow_version 1.x\n",
        "\n",
        "import numpy as np\n",
        "import pandas as pd\n",
        "from keras.callbacks import ModelCheckpoint, EarlyStopping\n",
        "from keras.optimizers import Adam\n",
        "from tensorflow.python.lib.io import file_io\n",
        "from skimage.transform import resize\n",
        "import numpy as np\n",
        "import keras\n",
        "from keras import backend as K\n",
        "import cv2\n",
        "\n",
        "warnings.filterwarnings(\"ignore\")\n"
      ],
      "execution_count": 4,
      "outputs": [
        {
          "output_type": "stream",
          "text": [
            "TensorFlow 1.x selected.\n"
          ],
          "name": "stdout"
        },
        {
          "output_type": "stream",
          "text": [
            "Using TensorFlow backend.\n"
          ],
          "name": "stderr"
        }
      ]
    },
    {
      "cell_type": "markdown",
      "metadata": {
        "colab_type": "text",
        "id": "P6Rilzb2Lnhz"
      },
      "source": [
        "# Data Loading"
      ]
    },
    {
      "cell_type": "code",
      "metadata": {
        "colab_type": "code",
        "id": "PFUOmRq1hChy",
        "colab": {}
      },
      "source": [
        "# Not all data in the dataset has defects. We only use the images which have defects\n",
        "# This function takes the dataset_type as a parameter. You can pass \"Train\" or \"Test\"\n",
        "# as argument to get the appropriate dataset\n",
        "def load_data(dataset_type=\"Train\"):\n",
        "    file_list = {}\n",
        "    defect_map = {}\n",
        "    file_name = []\n",
        "    file_mask = []\n",
        "    count = 0\n",
        "    num_classes = 6\n",
        "\n",
        "    data_dir = \"data\"\n",
        "    for x in range(1, num_classes + 1):\n",
        "        path = os.path.join(os.path.join(data_dir, \"Class\" + str(x)), dataset_type)\n",
        "        df = pd.read_fwf(path + \"/Label/Labels.txt\")\n",
        "        count = 0\n",
        "        for i in range(0, len(df)):\n",
        "            curr_file = path + \"/\" + str(df.iloc[i][2])\n",
        "            if (df.iloc[i][1] == 1):\n",
        "                file_list[curr_file] = path + \"/Label/\" + str(df.iloc[i][4])\n",
        "                defect_map[curr_file] = 1\n",
        "            else:\n",
        "                fnametest = str(df.iloc[i][2]).split(\".\")\n",
        "                file_list[curr_file] = str(path + \"/Label/\" + fnametest[0] + \"_label.PNG\")\n",
        "                defect_map[curr_file] = 0\n",
        "\n",
        "    items = list(file_list.keys())\n",
        "    shuffle(items)\n",
        "    for key in items:\n",
        "        if ((not os.path.exists(key)) or (not os.path.exists(file_list[key]))):\n",
        "            # print (\"Missing mask for \", key)\n",
        "            continue\n",
        "\n",
        "        if defect_map[key] == 1:\n",
        "            file_name.append(key)\n",
        "            file_mask.append(file_list[key])\n",
        "        elif count < 80 * num_classes:\n",
        "            file_name.append(key)\n",
        "            file_mask.append(file_list[key])\n",
        "            count = count + 1\n",
        "\n",
        "    return file_name, file_mask"
      ],
      "execution_count": 0,
      "outputs": []
    },
    {
      "cell_type": "markdown",
      "metadata": {
        "colab_type": "text",
        "id": "YMvNNG8nLq1N"
      },
      "source": [
        "Since the dataset is so large that it cannot fit into memory, we will need to use generator functions to iteratively load the dataset"
      ]
    },
    {
      "cell_type": "code",
      "metadata": {
        "colab_type": "code",
        "id": "0AO5Je2_iyjI",
        "colab": {}
      },
      "source": [
        "# This is generator class to process data in batches and send them for training\n",
        "class Surface_Generator(keras.utils.Sequence):\n",
        "\n",
        "    def __init__(self, image_filenames, labels, batch_size, test=False):\n",
        "        self.image_filenames, self.labels = image_filenames, labels\n",
        "        self.batch_size = batch_size\n",
        "\n",
        "    # return the total number of batches you have i.e., total_files/batch_size\n",
        "    def __len__(self):\n",
        "        # YOUR CODE HERE\n",
        "        return len(self.image_filenames)//self.batch_size\n",
        "\n",
        "    # this function is called for every mini-batch to get the images/masks for that mini-batch\n",
        "    def __getitem__(self, idx):\n",
        "        batch_x = self.image_filenames[idx * self.batch_size:(idx + 1) * self.batch_size]\n",
        "        batch_y = self.labels[idx * self.batch_size:(idx + 1) * self.batch_size]\n",
        "        image_arr = []\n",
        "        mask_arr = []\n",
        "        # Open a batch of images and their corresponding masks using cv2.imread\n",
        "        # resize them to 512x512x1 and return an np.array of images and masks\n",
        "        # YOUR CODE HERE\n",
        "        for i in batch_x:\n",
        "          image = cv2.imread(i,0)\n",
        "          image_arr.append(resize(image, (512, 512, 1)))\n",
        "        for i in batch_y:\n",
        "          image = cv2.imread(i,0)\n",
        "          mask_arr.append(resize(image, (512, 512, 1)))\n",
        "        return np.array(image_arr).astype(np.float32), np.array(mask_arr).astype(np.float32)\n",
        "    \n",
        "    # for testing we need to get the list of all true masks\n",
        "    # this function should return all the labels in the dataset set \n",
        "    # we will call this function only for the \"Test\" dataset\n",
        "    def get_all_masks(self):\n",
        "        mask_arr = []\n",
        "        for i in self.labels:\n",
        "          image = cv2.imread(i,0)\n",
        "          mask_arr.append(resize(image, (512, 512, 1)))\n",
        "        # YOUR CODE HERE\n",
        "\n",
        "        return np.array(mask_arr).astype(np.float32)\n"
      ],
      "execution_count": 0,
      "outputs": []
    },
    {
      "cell_type": "code",
      "metadata": {
        "colab_type": "code",
        "id": "dt-r8DWtiXb8",
        "colab": {}
      },
      "source": [
        "# Since we already have a split for training and test set,\n",
        "# we just need to split training set to get a validation set\n",
        "\n",
        "# Load training data\n",
        "X, Y = load_data(\"Train\")"
      ],
      "execution_count": 0,
      "outputs": []
    },
    {
      "cell_type": "code",
      "metadata": {
        "colab_type": "code",
        "id": "yCCf5m26iZ4-",
        "colab": {
          "base_uri": "https://localhost:8080/",
          "height": 34
        },
        "outputId": "94e108cb-7e01-4e20-8a77-106ed156bc04"
      },
      "source": [
        "# Split the original training data to get training and validation set\n",
        "# to get X_train, X_val, y_train, y_val\n",
        "# YOUR CODE HERE\n",
        "from sklearn.model_selection import train_test_split\n",
        "\n",
        "X_train, X_val, y_train, y_val = train_test_split(X, Y, test_size=0.2, shuffle = True)\n",
        "\n",
        "# Convert to numpy arrays\n",
        "# YOUR CODE HERE\n",
        "X_train = np.array(X_train)\n",
        "X_val = np.array(X_val)\n",
        "y_train = np.array(y_train)\n",
        "y_val = np.array(y_val)\n",
        "\n",
        "print(X_train.shape, y_train.shape, X_val.shape, y_val.shape)"
      ],
      "execution_count": 7,
      "outputs": [
        {
          "output_type": "stream",
          "text": [
            "(740,) (740,) (186,) (186,)\n"
          ],
          "name": "stdout"
        }
      ]
    },
    {
      "cell_type": "markdown",
      "metadata": {
        "colab_type": "text",
        "id": "pzVG7OlIKzPC"
      },
      "source": [
        "The output shape after the split should be \n",
        "(740,) (740,) (186,) (186,)"
      ]
    },
    {
      "cell_type": "code",
      "metadata": {
        "colab_type": "code",
        "id": "TuWAS7_Qt7xw",
        "colab": {
          "base_uri": "https://localhost:8080/",
          "height": 34
        },
        "outputId": "96122521-f03d-4481-dcf2-7d822572705b"
      },
      "source": [
        "# Free memory\n",
        "import gc\n",
        "del X\n",
        "del Y\n",
        "gc.collect()"
      ],
      "execution_count": 8,
      "outputs": [
        {
          "output_type": "execute_result",
          "data": {
            "text/plain": [
              "25"
            ]
          },
          "metadata": {
            "tags": []
          },
          "execution_count": 8
        }
      ]
    },
    {
      "cell_type": "markdown",
      "metadata": {
        "colab_type": "text",
        "id": "Pg95L-qULPUY"
      },
      "source": [
        "# Metrics\n",
        "\n",
        "Use keras.backend to calculate dice coefficient metric and dice coefficient loss function.\n",
        "\n",
        "Recall that dice_coeff = 2 \\* intersection / union\n",
        "\n",
        "We add a smoothing parameter and modify the formula to\n",
        "\n",
        "dice_coeff = 2 \\* (intersection + smooth) / (union + smooth)\n",
        "\n",
        "Our objective is to make dice_coeff as close to 1.0 as possible. \n",
        "Define and use the appropriate loss function."
      ]
    },
    {
      "cell_type": "code",
      "metadata": {
        "colab_type": "code",
        "id": "JwdFSKS-jB8S",
        "colab": {}
      },
      "source": [
        "# Dice Coefficient metric\n",
        "def dice_coef(y_true, y_pred):\n",
        "    smooth = 1\n",
        "    return (2. * K.sum(K.flatten(y_true) * K.flatten(y_pred)) + smooth) / (K.sum(K.flatten(y_true)) + K.sum(K.flatten(y_pred)) + smooth)\n",
        "\n",
        "\n",
        "\n",
        "# Dice Coefficient loss\n",
        "def dice_coef_loss(y_true, y_pred):\n",
        "    # YOUR CODE HERE\n",
        "    return 1-dice_coef(y_true, y_pred)"
      ],
      "execution_count": 0,
      "outputs": []
    },
    {
      "cell_type": "markdown",
      "metadata": {
        "colab_type": "text",
        "id": "Pynq8QkQMQfV"
      },
      "source": [
        "# Model\n",
        "\n",
        "U-net architeture has proved to be very powerful for segmentation tasks.\n",
        "\n",
        "We will be creating a Unet model based on the paper : \n",
        "\n",
        "[U-Net: Convolutional Networks for Biomedical Image Segmentation](https://arxiv.org/pdf/1505.04597.pdf)\n",
        "\n",
        "---\n",
        "\n",
        "A picture of the architecture we plan to use is provided in the project description pdf.\n",
        "\n",
        "We will create a Convolutional block module to help us build the model.\n",
        "\n",
        "Each convolutional block module will contain two trainable layers. \n",
        "\n",
        "Each layer will be a Convolution operation followed by batch normalization with relu activation.\n",
        "\n",
        "\n",
        "\n",
        "The U-net architecture has a contracting path, a convolution and then an expansive path.\n",
        "\n",
        "We will use instances of the convolutional block to create the contracting and expansive path."
      ]
    },
    {
      "cell_type": "code",
      "metadata": {
        "colab_type": "code",
        "id": "NmHn08ChjWNq",
        "colab": {}
      },
      "source": [
        "from keras.layers import Conv2DTranspose, Dropout, Activation, BatchNormalization, UpSampling2D, Concatenate\n",
        "from keras.layers import Input, Conv2D, MaxPooling2D, concatenate\n",
        "from keras.models import Model\n",
        "\n",
        "# Create a 2D convolution block. We will use multiple instances of this block to build our U-net model\n",
        "# This block will contain two layers. \n",
        "# Each layer will be a Convolution operation followed by batch normalization with relu activation \n",
        "def conv2d_block(input_tensor, n_filters, kernel_size):\n",
        "    # first layer\n",
        "    # Create a Conv2D layer with n_filters and a kernel of dimension : kernel_size x kernel_size. \n",
        "    # Use same padding and he_normal initializer\n",
        "    # YOUR CODE HERE\n",
        "    x = Conv2D(n_filters,kernel_size = (kernel_size,kernel_size),padding='same', kernel_initializer='he_normal')(input_tensor)\n",
        "    \n",
        "    # add a BatchNormalization layer\n",
        "    # YOUR CODE HERE\n",
        "    x = BatchNormalization()(x) \n",
        "        \n",
        "    # Add a relu non-linearity (keras.layers.Activation)\n",
        "    # YOUR CODE HERE\n",
        "    x = Activation(activation='relu')(x)\n",
        "    \n",
        "    # second layer\n",
        "    # repeat the above steps (Conv + batchnorm + relu) taking the output of relu layer as input for this convolutional layer\n",
        "    # YOUR CODE HERE\n",
        "    x = Conv2D(n_filters,(kernel_size,kernel_size),padding='same', kernel_initializer='he_normal')(x)\n",
        "    x = BatchNormalization()(x)\n",
        "    x = Activation('relu')(x)\n",
        "    \n",
        "    # return the output tensor\n",
        "    return x\n",
        "\n",
        "\n",
        "def get_unet_model(n_filters=16, dropout_prob=0.5, kernel_size=3):\n",
        "    input_img = Input((512, 512, 1))\n",
        "    \n",
        "    # contracting path\n",
        "    # create a convolutional block with input_img as the input tensor and n_filters\n",
        "    # YOUR CODE HERE\n",
        "    c1 = conv2d_block(input_img, n_filters, kernel_size=kernel_size)\n",
        "\n",
        "    # apply a 2d maxpooling with a pool size of 2x2\n",
        "    # YOUR CODE HERE\n",
        "    p1 = MaxPooling2D((2, 2))(c1)\n",
        "\n",
        "    # add a dropout. Since this the input, set the dropout rate to 0.5 * dropout_prob\n",
        "    # YOUR CODE HERE\n",
        "    p1 = Dropout(rate=0.5 * dropout_prob)(p1)\n",
        "\n",
        "\n",
        "    # create another convolutional block. this time use p1 as input tensor and twice the n_filters\n",
        "    # repeat the same maxpool and dropout but set dropout rate to dropout_prob this time\n",
        "    # YOUR CODE HERE\n",
        "    c2 = conv2d_block(p1,2*n_filters, kernel_size=kernel_size)\n",
        "    p2 = MaxPooling2D((2, 2))(c2)\n",
        "    p2 = Dropout(dropout_prob)(p2)\n",
        "\n",
        "    # create another block with maxpool and dropout with 4 x n_filters\n",
        "    # YOUR CODE HERE\n",
        "    c3 = conv2d_block(p2,4*n_filters, kernel_size=kernel_size)\n",
        "    p3 = MaxPooling2D((2, 2))(c3)\n",
        "    p3 = Dropout(dropout_prob)(p3)\n",
        "    # create another block with maxpool and dropout with 8 x n_filters\n",
        "    # YOUR CODE HERE\n",
        "    c4 = conv2d_block(p3,8*n_filters, kernel_size=kernel_size)\n",
        "    p4 = MaxPooling2D((2, 2))(c4)\n",
        "    p4 = Dropout(dropout_prob)(p4)\n",
        "\n",
        "\n",
        "    # This is the layer where we combine the contractive and expansive paths\n",
        "    # create a convolutional block with 16 x n_filters. No pooling/dropout this time\n",
        "    # YOUR CODE HERE\n",
        "    c5 = conv2d_block(p4,16*n_filters, kernel_size=kernel_size)\n",
        "\n",
        "    \n",
        "    # Expansive path\n",
        "\n",
        "    # We will create a similar structure as the contracting path but instead of \n",
        "    # convolutional operation, we will use Deconvolution operations\n",
        "\n",
        "    # Create a Conv2DTranspose layer (deconvolution) with 8 x n_filters, kernel_size, \n",
        "    # 2x2 strides and same padding\n",
        "    # YOUR CODE HERE\n",
        "    u6 = Conv2DTranspose(8*n_filters, kernel_size=(kernel_size,kernel_size),strides=(2, 2), padding='same')(c5)\n",
        "\n",
        "    # Concatenate u6 and c4 using keras.layers.concatenate\n",
        "    # YOUR CODE HERE\n",
        "    u6 = concatenate([u6, c4])\n",
        "    \n",
        "    # dropout\n",
        "    # YOUR CODE HERE\n",
        "    u6 = Dropout(dropout_prob)(u6)\n",
        "    \n",
        "    # create a convolutional block with 8 x n_filters\n",
        "    # YOUR CODE HERE\n",
        "    c6 = conv2d_block(u6, 8 * n_filters, kernel_size=kernel_size)\n",
        "    \n",
        "\n",
        "    # Create a similar module as previous, deconv, concatenate, dropout, conv2d_block\n",
        "    # Please ensure that the number of filters you use match the n_filters of \n",
        "    # the layer you are concatenating with\n",
        "    # YOUR CODE HERE\n",
        "    u7 = Conv2DTranspose(4*n_filters, kernel_size=(kernel_size,kernel_size),strides=(2, 2), padding='same')(c6)\n",
        "    u7 = concatenate([u7, c3])\n",
        "    u7 = Dropout(dropout_prob)(u7)\n",
        "    c7 = conv2d_block(u7, 4 * n_filters, kernel_size)\n",
        "    \n",
        "    # Create a similar module as previous, deconv, concatenate, dropout, conv2d_block\n",
        "    # YOUR CODE HERE\n",
        "    u8 = Conv2DTranspose(2*n_filters, kernel_size=(kernel_size,kernel_size),strides=(2, 2), padding='same')(c7)\n",
        "    u8 = concatenate([u8, c2])\n",
        "    u8 = Dropout(dropout_prob)(u8)\n",
        "    c8 = conv2d_block(u8, 2 * n_filters, kernel_size)\n",
        "\n",
        "    # Create a similar module as previous, deconv, concatenate, dropout, conv2d_block\n",
        "    # YOUR CODE HERE\n",
        "    u9 = Conv2DTranspose(n_filters, kernel_size=(kernel_size,kernel_size),strides=(2, 2), padding='same')(c8)\n",
        "    u9 = concatenate([u9, c1])\n",
        "    u9 = Dropout(dropout_prob)(u9)\n",
        "    c9 = conv2d_block(u9, n_filters, kernel_size)\n",
        "\n",
        "    # apply a 1x1 convolution on c9 to get an output with a single channel\n",
        "    # This is the final model output. We want the pixel values in the mask to be\n",
        "    # either 0 or 1. Choose an activation function which can give values in that\n",
        "    # range.\n",
        "    # YOUR CODE HERE\n",
        "    outputs = Conv2D(1, (1, 1), activation='sigmoid') (c9)\n",
        "\n",
        "    model = Model(inputs=[input_img], outputs=[outputs])\n",
        "\n",
        "    return model"
      ],
      "execution_count": 0,
      "outputs": []
    },
    {
      "cell_type": "code",
      "metadata": {
        "colab_type": "code",
        "id": "9JBg48_qiQ_R",
        "colab": {
          "base_uri": "https://localhost:8080/",
          "height": 530
        },
        "outputId": "c4d69e49-cbbc-408b-ccfb-5220777062c1"
      },
      "source": [
        "model_name = \"unet\"\n",
        "model = get_unet_model()"
      ],
      "execution_count": 12,
      "outputs": [
        {
          "output_type": "stream",
          "text": [
            "WARNING:tensorflow:From /usr/local/lib/python3.6/dist-packages/keras/backend/tensorflow_backend.py:66: The name tf.get_default_graph is deprecated. Please use tf.compat.v1.get_default_graph instead.\n",
            "\n",
            "WARNING:tensorflow:From /usr/local/lib/python3.6/dist-packages/keras/backend/tensorflow_backend.py:541: The name tf.placeholder is deprecated. Please use tf.compat.v1.placeholder instead.\n",
            "\n",
            "WARNING:tensorflow:From /usr/local/lib/python3.6/dist-packages/keras/backend/tensorflow_backend.py:4479: The name tf.truncated_normal is deprecated. Please use tf.random.truncated_normal instead.\n",
            "\n",
            "WARNING:tensorflow:From /usr/local/lib/python3.6/dist-packages/keras/backend/tensorflow_backend.py:190: The name tf.get_default_session is deprecated. Please use tf.compat.v1.get_default_session instead.\n",
            "\n",
            "WARNING:tensorflow:From /usr/local/lib/python3.6/dist-packages/keras/backend/tensorflow_backend.py:197: The name tf.ConfigProto is deprecated. Please use tf.compat.v1.ConfigProto instead.\n",
            "\n",
            "WARNING:tensorflow:From /usr/local/lib/python3.6/dist-packages/keras/backend/tensorflow_backend.py:203: The name tf.Session is deprecated. Please use tf.compat.v1.Session instead.\n",
            "\n",
            "WARNING:tensorflow:From /usr/local/lib/python3.6/dist-packages/keras/backend/tensorflow_backend.py:207: The name tf.global_variables is deprecated. Please use tf.compat.v1.global_variables instead.\n",
            "\n",
            "WARNING:tensorflow:From /usr/local/lib/python3.6/dist-packages/keras/backend/tensorflow_backend.py:216: The name tf.is_variable_initialized is deprecated. Please use tf.compat.v1.is_variable_initialized instead.\n",
            "\n",
            "WARNING:tensorflow:From /usr/local/lib/python3.6/dist-packages/keras/backend/tensorflow_backend.py:223: The name tf.variables_initializer is deprecated. Please use tf.compat.v1.variables_initializer instead.\n",
            "\n",
            "WARNING:tensorflow:From /usr/local/lib/python3.6/dist-packages/keras/backend/tensorflow_backend.py:2041: The name tf.nn.fused_batch_norm is deprecated. Please use tf.compat.v1.nn.fused_batch_norm instead.\n",
            "\n",
            "WARNING:tensorflow:From /usr/local/lib/python3.6/dist-packages/keras/backend/tensorflow_backend.py:148: The name tf.placeholder_with_default is deprecated. Please use tf.compat.v1.placeholder_with_default instead.\n",
            "\n",
            "WARNING:tensorflow:From /usr/local/lib/python3.6/dist-packages/keras/backend/tensorflow_backend.py:4267: The name tf.nn.max_pool is deprecated. Please use tf.nn.max_pool2d instead.\n",
            "\n",
            "WARNING:tensorflow:From /usr/local/lib/python3.6/dist-packages/keras/backend/tensorflow_backend.py:3733: calling dropout (from tensorflow.python.ops.nn_ops) with keep_prob is deprecated and will be removed in a future version.\n",
            "Instructions for updating:\n",
            "Please use `rate` instead of `keep_prob`. Rate should be set to `rate = 1 - keep_prob`.\n",
            "WARNING:tensorflow:From /usr/local/lib/python3.6/dist-packages/keras/backend/tensorflow_backend.py:4432: The name tf.random_uniform is deprecated. Please use tf.random.uniform instead.\n",
            "\n"
          ],
          "name": "stdout"
        }
      ]
    },
    {
      "cell_type": "code",
      "metadata": {
        "colab_type": "code",
        "id": "motKXf_TiUKg",
        "colab": {
          "base_uri": "https://localhost:8080/",
          "height": 71
        },
        "outputId": "485219b0-28e1-4ba3-def7-791d2f0add0b"
      },
      "source": [
        "batch_size = 8\n",
        "num_epochs = 50\n",
        "# Compile the model\n",
        "model.compile(loss=dice_coef_loss, optimizer=Adam(lr=0.0055), metrics=[dice_coef])"
      ],
      "execution_count": 13,
      "outputs": [
        {
          "output_type": "stream",
          "text": [
            "WARNING:tensorflow:From /usr/local/lib/python3.6/dist-packages/keras/optimizers.py:793: The name tf.train.Optimizer is deprecated. Please use tf.compat.v1.train.Optimizer instead.\n",
            "\n"
          ],
          "name": "stdout"
        }
      ]
    },
    {
      "cell_type": "code",
      "metadata": {
        "colab_type": "code",
        "id": "ewQjQjWyqq-e",
        "colab": {}
      },
      "source": [
        "# Create generator objects for training and validation\n",
        "num_training_samples = len(X_train)\n",
        "num_validation_samples = len(X_val)\n",
        "# YOUR CODE HERE\n",
        "training_batch_generator = Surface_Generator(X_train,y_train,batch_size)\n",
        "validation_batch_generator = Surface_Generator(X_val,y_val,batch_size)"
      ],
      "execution_count": 0,
      "outputs": []
    },
    {
      "cell_type": "code",
      "metadata": {
        "colab_type": "code",
        "id": "_otO9PPuq2ED",
        "colab": {}
      },
      "source": [
        "# OPTIONAL\n",
        "# callbacks for saving models and early stopping\n",
        "checkpointer = ModelCheckpoint(model_name + \"/weights.{epoch:02d}-{val_loss:.2f}.hdf5\", monitor=dice_coef, verbose=1,\n",
        "                               save_best_only=True, mode='max')\n",
        "early_stopping = EarlyStopping(monitor='val_loss', min_delta=0, patience=10, verbose=1, mode='auto')"
      ],
      "execution_count": 0,
      "outputs": []
    },
    {
      "cell_type": "code",
      "metadata": {
        "colab_type": "code",
        "id": "63cNn_B6q4fb",
        "colab": {
          "base_uri": "https://localhost:8080/",
          "height": 1000
        },
        "outputId": "165fc65e-65b2-48c5-df80-ac3de8746beb"
      },
      "source": [
        "# Fit model\n",
        "# This will take ~1.5-2 minutes per epoch on a GPU\n",
        "stmillis = int(round(time.time() * 1000))\n",
        "history = model.fit_generator(generator=training_batch_generator,\n",
        "                    steps_per_epoch=(num_training_samples // batch_size),\n",
        "                    epochs=num_epochs,\n",
        "                    verbose=1,\n",
        "                    validation_data=validation_batch_generator,\n",
        "                    validation_steps=(num_validation_samples // batch_size),\n",
        "                    use_multiprocessing=True,\n",
        "                    workers=5,\n",
        "                    max_queue_size=1,\n",
        "                    callbacks=[checkpointer, early_stopping])\n",
        "endmillis = int(round(time.time() * 1000))\n",
        "print(\"Time taken: \", endmillis - stmillis)"
      ],
      "execution_count": 19,
      "outputs": [
        {
          "output_type": "stream",
          "text": [
            "WARNING:tensorflow:From /usr/local/lib/python3.6/dist-packages/keras/backend/tensorflow_backend.py:1033: The name tf.assign_add is deprecated. Please use tf.compat.v1.assign_add instead.\n",
            "\n",
            "WARNING:tensorflow:From /usr/local/lib/python3.6/dist-packages/keras/backend/tensorflow_backend.py:1020: The name tf.assign is deprecated. Please use tf.compat.v1.assign instead.\n",
            "\n",
            "Epoch 1/50\n",
            "92/92 [==============================] - 58s 631ms/step - loss: 0.8128 - dice_coef: 0.1872 - val_loss: 0.9706 - val_dice_coef: 0.0294\n",
            "Epoch 2/50\n",
            "92/92 [==============================] - 44s 482ms/step - loss: 0.6517 - dice_coef: 0.3483 - val_loss: 0.9710 - val_dice_coef: 0.0290\n",
            "Epoch 3/50\n",
            "92/92 [==============================] - 44s 475ms/step - loss: 0.6375 - dice_coef: 0.3625 - val_loss: 0.9588 - val_dice_coef: 0.0412\n",
            "Epoch 4/50\n",
            "92/92 [==============================] - 44s 475ms/step - loss: 0.6120 - dice_coef: 0.3880 - val_loss: 0.9510 - val_dice_coef: 0.0490\n",
            "Epoch 5/50\n",
            "92/92 [==============================] - 43s 469ms/step - loss: 0.6055 - dice_coef: 0.3945 - val_loss: 0.9619 - val_dice_coef: 0.0381\n",
            "Epoch 5/50\n",
            "Epoch 6/50\n",
            "92/92 [==============================] - 43s 467ms/step - loss: 0.6088 - dice_coef: 0.3912 - val_loss: 0.8760 - val_dice_coef: 0.1240\n",
            "Epoch 7/50\n",
            "92/92 [==============================] - 43s 469ms/step - loss: 0.6082 - dice_coef: 0.3918 - val_loss: 0.7150 - val_dice_coef: 0.2850\n",
            "Epoch 8/50\n",
            "\n",
            "92/92 [==============================] - 43s 467ms/step - loss: 0.6296 - dice_coef: 0.3704 - val_loss: 0.9371 - val_dice_coef: 0.0629\n",
            "Epoch 9/50\n",
            "92/92 [==============================] - 43s 471ms/step - loss: 0.5795 - dice_coef: 0.4205 - val_loss: 0.6535 - val_dice_coef: 0.3465\n",
            "Epoch 10/50\n",
            "91/92 [============================>.] - ETA: 0s - loss: 0.5780 - dice_coef: 0.4220\n",
            "92/92 [==============================] - 44s 476ms/step - loss: 0.5758 - dice_coef: 0.4242 - val_loss: 0.6902 - val_dice_coef: 0.3098\n",
            "Epoch 11/50\n",
            "92/92 [==============================] - 44s 473ms/step - loss: 0.5598 - dice_coef: 0.4402 - val_loss: 0.8024 - val_dice_coef: 0.1976\n",
            "92/92 [==============================]Epoch 12/50\n",
            "92/92 [==============================] - 44s 477ms/step - loss: 0.5904 - dice_coef: 0.4096 - val_loss: 0.6601 - val_dice_coef: 0.3399\n",
            "Epoch 12/50\n",
            "Epoch 13/50\n",
            "92/92 [==============================] - 43s 467ms/step - loss: 0.5425 - dice_coef: 0.4575 - val_loss: 0.9914 - val_dice_coef: 0.0086\n",
            "Epoch 14/50\n",
            "92/92 [==============================] - 43s 466ms/step - loss: 0.5483 - dice_coef: 0.4517 - val_loss: 0.6337 - val_dice_coef: 0.3663\n",
            "Epoch 15/50\n",
            "92/92 [==============================] - 44s 474ms/step - loss: 0.5223 - dice_coef: 0.4777 - val_loss: 0.9828 - val_dice_coef: 0.0172\n",
            "Epoch 16/50\n",
            "92/92 [==============================] - 44s 473ms/step - loss: 0.5143 - dice_coef: 0.4857 - val_loss: 0.7734 - val_dice_coef: 0.2266\n",
            "Epoch 17/50\n",
            "91/92 [============================>.] - ETA: 0s - loss: 0.4981 - dice_coef: 0.5019\n",
            "92/92 [==============================] - 43s 472ms/step - loss: 0.4950 - dice_coef: 0.5050 - val_loss: 0.6523 - val_dice_coef: 0.3477\n",
            "Epoch 18/50\n",
            "92/92 [==============================] - 43s 470ms/step - loss: 0.4896 - dice_coef: 0.5104 - val_loss: 0.9479 - val_dice_coef: 0.0521\n",
            "Epoch 19/50\n",
            "92/92 [==============================] - 44s 476ms/step - loss: 0.4627 - dice_coef: 0.5373 - val_loss: 0.6563 - val_dice_coef: 0.3437\n",
            "\n",
            "Epoch 20/50\n",
            "92/92 [==============================] - 43s 466ms/step - loss: 0.4825 - dice_coef: 0.5175 - val_loss: 0.7587 - val_dice_coef: 0.2413\n",
            "Epoch 21/50\n",
            "Epoch 20/50\n",
            "92/92 [==============================] - 43s 470ms/step - loss: 0.4544 - dice_coef: 0.5456 - val_loss: 0.6465 - val_dice_coef: 0.3535\n",
            "Epoch 22/50\n",
            "92/92 [==============================] - 43s 471ms/step - loss: 0.4477 - dice_coef: 0.5523 - val_loss: 0.6306 - val_dice_coef: 0.3694\n",
            "Epoch 23/50\n",
            "92/92 [==============================] - 44s 477ms/step - loss: 0.4376 - dice_coef: 0.5624 - val_loss: 0.4992 - val_dice_coef: 0.5008\n",
            "Epoch 24/50\n",
            "Epoch 23/50\n",
            "92/92 [==============================] - 43s 472ms/step - loss: 0.3848 - dice_coef: 0.6152 - val_loss: 0.4205 - val_dice_coef: 0.5795\n",
            "\n",
            "Epoch 25/50\n",
            "92/92 [==============================] - 44s 478ms/step - loss: 0.3657 - dice_coef: 0.6343 - val_loss: 0.5111 - val_dice_coef: 0.4889\n",
            "Epoch 25/50\n",
            "Epoch 26/50\n",
            "92/92 [==============================] - 44s 476ms/step - loss: 0.3574 - dice_coef: 0.6426 - val_loss: 0.4873 - val_dice_coef: 0.5127\n",
            "Epoch 26/50\n",
            "Epoch 27/50\n",
            "92/92 [==============================] - 44s 476ms/step - loss: 0.3483 - dice_coef: 0.6517 - val_loss: 0.5074 - val_dice_coef: 0.4926\n",
            "Epoch 28/50\n",
            "92/92 [==============================] - 43s 467ms/step - loss: 0.3408 - dice_coef: 0.6592 - val_loss: 0.4611 - val_dice_coef: 0.5389\n",
            "Epoch 29/50\n",
            "92/92 [==============================] - 43s 472ms/step - loss: 0.3393 - dice_coef: 0.6607 - val_loss: 0.5433 - val_dice_coef: 0.4567\n",
            "Epoch 30/50\n",
            "92/92 [==============================] - 43s 468ms/step - loss: 0.3460 - dice_coef: 0.6540 - val_loss: 0.5045 - val_dice_coef: 0.4955\n",
            "Epoch 31/50\n",
            "92/92 [==============================] - 43s 468ms/step - loss: 0.3277 - dice_coef: 0.6723 - val_loss: 0.7136 - val_dice_coef: 0.2864\n",
            "Epoch 31/50Epoch 32/50\n",
            "92/92 [==============================] - 43s 469ms/step - loss: 0.3273 - dice_coef: 0.6727 - val_loss: 0.4464 - val_dice_coef: 0.5536\n",
            "Epoch 32/50\n",
            "Epoch 33/50\n",
            "92/92 [==============================] - 43s 468ms/step - loss: 0.3291 - dice_coef: 0.6709 - val_loss: 0.4528 - val_dice_coef: 0.5472\n",
            "Epoch 34/50\n",
            "Epoch 33/50\n",
            "92/92 [==============================] - 43s 464ms/step - loss: 0.3230 - dice_coef: 0.6770 - val_loss: 0.4102 - val_dice_coef: 0.5898\n",
            "Epoch 35/50\n",
            "92/92 [==============================] - 44s 473ms/step - loss: 0.3365 - dice_coef: 0.6635 - val_loss: 0.3974 - val_dice_coef: 0.6026\n",
            "Epoch 36/50\n",
            "92/92 [==============================] - 43s 467ms/step - loss: 0.3147 - dice_coef: 0.6853 - val_loss: 0.4509 - val_dice_coef: 0.5491\n",
            "Epoch 37/50\n",
            "92/92 [==============================] - 43s 471ms/step - loss: 0.3060 - dice_coef: 0.6940 - val_loss: 0.7450 - val_dice_coef: 0.2550\n",
            "Epoch 38/50\n",
            "92/92 [==============================] - 43s 465ms/step - loss: 0.3119 - dice_coef: 0.6881 - val_loss: 0.6274 - val_dice_coef: 0.3726\n",
            "\n",
            "Epoch 39/50\n",
            "92/92 [==============================] - 44s 473ms/step - loss: 0.3071 - dice_coef: 0.6929 - val_loss: 0.6897 - val_dice_coef: 0.3103\n",
            "Epoch 40/50\n",
            "92/92 [==============================] - 44s 473ms/step - loss: 0.3327 - dice_coef: 0.6673 - val_loss: 0.7768 - val_dice_coef: 0.2232\n",
            "Epoch 41/50\n",
            "92/92 [==============================] - 43s 465ms/step - loss: 0.3811 - dice_coef: 0.6189 - val_loss: 0.4487 - val_dice_coef: 0.5513\n",
            "Epoch 42/50\n",
            "92/92 [==============================] - 42s 461ms/step - loss: 0.3387 - dice_coef: 0.6613 - val_loss: 0.4684 - val_dice_coef: 0.5316\n",
            "\n",
            "Epoch 43/50\n",
            "92/92 [==============================] - 43s 469ms/step - loss: 0.3427 - dice_coef: 0.6573 - val_loss: 0.5019 - val_dice_coef: 0.4981\n",
            "Epoch 44/50\n",
            "91/92 [============================>.] - ETA: 0s - loss: 0.3251 - dice_coef: 0.6749Epoch 44/50\n",
            "92/92 [==============================] - 43s 469ms/step - loss: 0.3260 - dice_coef: 0.6740 - val_loss: 0.4910 - val_dice_coef: 0.5090\n",
            "Epoch 45/50\n",
            "92/92 [==============================] - 44s 479ms/step - loss: 0.3234 - dice_coef: 0.6766 - val_loss: 0.4301 - val_dice_coef: 0.5699\n",
            "Epoch 00045: early stopping\n",
            "Time taken:  1968330\n"
          ],
          "name": "stdout"
        }
      ]
    },
    {
      "cell_type": "code",
      "metadata": {
        "colab_type": "code",
        "id": "3brG4OSvidg-",
        "colab": {}
      },
      "source": [
        "# Save the trained weights\n",
        "model.save(model_name + \".h5\")\n",
        "\n",
        "# Save model config as json\n",
        "model_json = model.to_json()\n",
        "with open(model_name + \".json\", \"w\") as json_file:\n",
        "    json_file.write(model_json)\n",
        "\n",
        "# Persist the model to your google drive [VERY IMPORTANT]\n",
        "!cp unet.* gdrive/My\\ Drive/"
      ],
      "execution_count": 0,
      "outputs": []
    },
    {
      "cell_type": "code",
      "metadata": {
        "colab_type": "code",
        "id": "gyQIv8vP-Bvr",
        "colab": {
          "base_uri": "https://localhost:8080/",
          "height": 51
        },
        "outputId": "2d324f6b-df5c-46fa-9dc8-92ac2e6b3eab"
      },
      "source": [
        "# Confirm if model did get saved\n",
        "!ls -ltr gdrive/My\\ Drive/unet*"
      ],
      "execution_count": 21,
      "outputs": [
        {
          "output_type": "stream",
          "text": [
            "-rw------- 1 root root    35212 Apr  3 20:32 'gdrive/My Drive/unet.json'\n",
            "-rw------- 1 root root 26261248 Apr  3 20:32 'gdrive/My Drive/unet.h5'\n"
          ],
          "name": "stdout"
        }
      ]
    },
    {
      "cell_type": "code",
      "metadata": {
        "colab_type": "code",
        "id": "oXpPThkeAp30",
        "colab": {}
      },
      "source": [
        "# In case you wish to load your saved model\n",
        "!cp gdrive/My\\ Drive/unet* .\n",
        "\n",
        "model.load_weights(\"unet.h5\")"
      ],
      "execution_count": 0,
      "outputs": []
    },
    {
      "cell_type": "code",
      "metadata": {
        "colab_type": "code",
        "id": "hfVKLvOSinhR",
        "colab": {
          "base_uri": "https://localhost:8080/",
          "height": 34
        },
        "outputId": "f1fb86eb-cf87-4626-d31a-e143f5e2eb96"
      },
      "source": [
        "import gc\n",
        "gc.collect()\n",
        "\n",
        "# Load test data in X_test and y_test\n",
        "# YOUR CODE HERE\n",
        "X_test, y_test = load_data(\"Test\")\n",
        "X_test = np.array(X_test)\n",
        "y_test = np.array(y_test)\n",
        "print (X_test.shape, y_test.shape)"
      ],
      "execution_count": 24,
      "outputs": [
        {
          "output_type": "stream",
          "text": [
            "(454,) (454,)\n"
          ],
          "name": "stdout"
        }
      ]
    },
    {
      "cell_type": "markdown",
      "metadata": {
        "colab_type": "text",
        "id": "T6Z-UydF9wFR"
      },
      "source": [
        "Output shape should be (454,) (454,)"
      ]
    },
    {
      "cell_type": "markdown",
      "metadata": {
        "colab_type": "text",
        "id": "xDvVIz7eVDeJ"
      },
      "source": [
        "[OPTIONAL] Shuffle and select 25 elements for quick testing\n"
      ]
    },
    {
      "cell_type": "code",
      "metadata": {
        "colab_type": "code",
        "id": "JW2AcXfX4ok1",
        "colab": {}
      },
      "source": [
        "np.random.seed = 629\n",
        "p = np.random.permutation(len(X_test))\n",
        "X_test = X_test[p]\n",
        "y_test = y_test[p]\n",
        "\n",
        "# X_test = X_test[:25]\n",
        "# y_test = y_test[:25]"
      ],
      "execution_count": 0,
      "outputs": []
    },
    {
      "cell_type": "code",
      "metadata": {
        "colab_type": "code",
        "id": "WUDhmrOnzd1J",
        "colab": {}
      },
      "source": [
        "# Predict using model.predict_generator().\n",
        "# YOUR CODE HERE\n",
        "test_data_generator = Surface_Generator(X_test,y_test,1,test=True)\n",
        "y_pred = model.predict_generator(test_data_generator)"
      ],
      "execution_count": 0,
      "outputs": []
    },
    {
      "cell_type": "code",
      "metadata": {
        "colab_type": "code",
        "id": "y2yJe5T40aws",
        "colab": {
          "base_uri": "https://localhost:8080/",
          "height": 34
        },
        "outputId": "960df95c-1c22-4daf-9076-95db24bc6f18"
      },
      "source": [
        "# y_true will have the true masks\n",
        "y_true = test_data_generator.get_all_masks()\n",
        "print (\"Dice coefficient on test data: \", K.get_value(dice_coef(y_true, y_pred)))"
      ],
      "execution_count": 27,
      "outputs": [
        {
          "output_type": "stream",
          "text": [
            "Dice coefficient on test data:  0.6871277\n"
          ],
          "name": "stdout"
        }
      ]
    },
    {
      "cell_type": "markdown",
      "metadata": {
        "colab_type": "text",
        "id": "rq51uM6fUoo8"
      },
      "source": [
        "The dice coefficient on test data should be close to 0.7\n",
        "\n"
      ]
    },
    {
      "cell_type": "markdown",
      "metadata": {
        "colab_type": "text",
        "id": "TVuJ6cCTfeXB"
      },
      "source": [
        "Visulaizing the mask for a random image"
      ]
    },
    {
      "cell_type": "code",
      "metadata": {
        "colab_type": "code",
        "id": "kn447ZCDfAUd",
        "colab": {}
      },
      "source": [
        "# Convert sigmoid outputs to binary class labels\n",
        "y_pred[20][y_pred[20] >= 0.5] = 1\n",
        "y_pred[20][y_pred[20] < 0.5] = 0"
      ],
      "execution_count": 0,
      "outputs": []
    },
    {
      "cell_type": "code",
      "metadata": {
        "colab_type": "code",
        "id": "HmUZiALBJcie",
        "colab": {
          "base_uri": "https://localhost:8080/",
          "height": 269
        },
        "outputId": "3a189a7f-db23-4b3a-9c29-0b0591ac0884"
      },
      "source": [
        "import matplotlib.pyplot as plt\n",
        "plt.imshow(y_true[20][:,:,0], cmap='gray')\n",
        "plt.show()"
      ],
      "execution_count": 29,
      "outputs": [
        {
          "output_type": "display_data",
          "data": {
            "image/png": "[encoded data removed]",
            "text/plain": [
              "<Figure size 432x288 with 1 Axes>"
            ]
          },
          "metadata": {
            "tags": []
          }
        }
      ]
    },
    {
      "cell_type": "code",
      "metadata": {
        "colab_type": "code",
        "id": "pn5Fkv9-JDiX",
        "colab": {
          "base_uri": "https://localhost:8080/",
          "height": 269
        },
        "outputId": "34125044-acde-4498-a056-b252accb46e7"
      },
      "source": [
        "plt.imshow(y_pred[20][:,:,0], cmap='gray')\n",
        "plt.show()"
      ],
      "execution_count": 30,
      "outputs": [
        {
          "output_type": "display_data",
          "data": {
            "image/png": "[encoded data removed]",
            "text/plain": [
              "<Figure size 432x288 with 1 Axes>"
            ]
          },
          "metadata": {
            "tags": []
          }
        }
      ]
    },
    {
      "cell_type": "code",
      "metadata": {
        "colab_type": "code",
        "id": "isCQ_Cxpehpj",
        "colab": {
          "base_uri": "https://localhost:8080/",
          "height": 34
        },
        "outputId": "b39d6c0e-7e95-416e-a785-0ce948a7adc2"
      },
      "source": [
        "# Dice coefficient on this example\n",
        "K.get_value(dice_coef(y_true[20], y_pred[20]))"
      ],
      "execution_count": 31,
      "outputs": [
        {
          "output_type": "execute_result",
          "data": {
            "text/plain": [
              "0.00040933277"
            ]
          },
          "metadata": {
            "tags": []
          },
          "execution_count": 31
        }
      ]
    },
    {
      "cell_type": "markdown",
      "metadata": {
        "colab_type": "text",
        "id": "Z9PebgnFu3Yu"
      },
      "source": [
        "Data augmentation techniques almost always help in improving the performance of deep learning models.\n",
        "\n",
        "\n",
        "Try beating the result obtained above by doing some kind of data augmentation and leave the code/results in the jupyter file.\n",
        "\n",
        "Provide the dice coefficient obtained on the new model trained with data augmentation.\n",
        "\n",
        "---\n",
        "\n",
        "# Experimentation Zone\n",
        "You may write any custom code here. The data augmentation part will be evaluated from this region."
      ]
    },
    {
      "cell_type": "code",
      "metadata": {
        "colab_type": "code",
        "id": "mFL6rvc4yUPp",
        "colab": {}
      },
      "source": [
        ""
      ],
      "execution_count": 0,
      "outputs": []
    }
  ]
}